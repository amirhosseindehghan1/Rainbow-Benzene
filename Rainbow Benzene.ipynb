{
 "cells": [
  {
   "cell_type": "code",
   "execution_count": null,
   "id": "e94c4574",
   "metadata": {},
   "outputs": [],
   "source": [
    "# Python program to draw\n",
    "# Rainbow Benzene\n",
    "# using Turtle Programming\n",
    "import turtle\n",
    "colors = ['red', 'purple', 'blue', 'green', 'orange', 'yellow']\n",
    "t = turtle.Pen()\n",
    "turtle.bgcolor('black')\n",
    "for x in range(360):\n",
    "\tt.pencolor(colors[x%6])\n",
    "\tt.width(x/100 + 1)\n",
    "\tt.forward(x)\n",
    "\tt.left(59)\n"
   ]
  },
  {
   "cell_type": "code",
   "execution_count": null,
   "id": "77b512e0",
   "metadata": {},
   "outputs": [],
   "source": []
  },
  {
   "cell_type": "code",
   "execution_count": null,
   "id": "85572776",
   "metadata": {},
   "outputs": [],
   "source": []
  }
 ],
 "metadata": {
  "kernelspec": {
   "display_name": "Python 3",
   "language": "python",
   "name": "python3"
  },
  "language_info": {
   "codemirror_mode": {
    "name": "ipython",
    "version": 3
   },
   "file_extension": ".py",
   "mimetype": "text/x-python",
   "name": "python",
   "nbconvert_exporter": "python",
   "pygments_lexer": "ipython3",
   "version": "3.8.8"
  }
 },
 "nbformat": 4,
 "nbformat_minor": 5
}
